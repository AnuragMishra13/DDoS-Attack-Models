{
 "cells": [
  {
   "cell_type": "code",
   "execution_count": 3,
   "metadata": {},
   "outputs": [],
   "source": [
    "import pandas as pd\n",
    "import matplotlib.pyplot as plt\n",
    "import numpy as np\n",
    "import seaborn as sns"
   ]
  },
  {
   "cell_type": "code",
   "execution_count": 4,
   "metadata": {},
   "outputs": [
    {
     "name": "stderr",
     "output_type": "stream",
     "text": [
      "C:\\Users\\anura\\AppData\\Local\\Temp\\ipykernel_12408\\3283101298.py:1: DtypeWarning: Columns (85) have mixed types. Specify dtype option on import or set low_memory=False.\n",
      "  df = pd.read_csv(\"Traning Datasets/DrDoS_DNS.csv\").drop(columns=['Unnamed: 0',' Timestamp','SimillarHTTP'])\n"
     ]
    }
   ],
   "source": [
    "df = pd.read_csv(\"Traning Datasets/DrDoS_DNS.csv\").drop(columns=['Unnamed: 0',' Timestamp','SimillarHTTP'])\n",
    "df.columns = df.columns.str.strip()"
   ]
  },
  {
   "cell_type": "code",
   "execution_count": 5,
   "metadata": {},
   "outputs": [
    {
     "data": {
      "text/html": [
       "<div>\n",
       "<style scoped>\n",
       "    .dataframe tbody tr th:only-of-type {\n",
       "        vertical-align: middle;\n",
       "    }\n",
       "\n",
       "    .dataframe tbody tr th {\n",
       "        vertical-align: top;\n",
       "    }\n",
       "\n",
       "    .dataframe thead th {\n",
       "        text-align: right;\n",
       "    }\n",
       "</style>\n",
       "<table border=\"1\" class=\"dataframe\">\n",
       "  <thead>\n",
       "    <tr style=\"text-align: right;\">\n",
       "      <th></th>\n",
       "      <th>Flow ID</th>\n",
       "      <th>Source IP</th>\n",
       "      <th>Source Port</th>\n",
       "      <th>Destination IP</th>\n",
       "      <th>Destination Port</th>\n",
       "      <th>Protocol</th>\n",
       "      <th>Flow Duration</th>\n",
       "      <th>Total Fwd Packets</th>\n",
       "      <th>Total Backward Packets</th>\n",
       "      <th>Total Length of Fwd Packets</th>\n",
       "      <th>...</th>\n",
       "      <th>Active Mean</th>\n",
       "      <th>Active Std</th>\n",
       "      <th>Active Max</th>\n",
       "      <th>Active Min</th>\n",
       "      <th>Idle Mean</th>\n",
       "      <th>Idle Std</th>\n",
       "      <th>Idle Max</th>\n",
       "      <th>Idle Min</th>\n",
       "      <th>Inbound</th>\n",
       "      <th>Label</th>\n",
       "    </tr>\n",
       "  </thead>\n",
       "  <tbody>\n",
       "    <tr>\n",
       "      <th>0</th>\n",
       "      <td>172.16.0.5-192.168.50.1-634-60495-17</td>\n",
       "      <td>172.16.0.5</td>\n",
       "      <td>634</td>\n",
       "      <td>192.168.50.1</td>\n",
       "      <td>60495</td>\n",
       "      <td>17</td>\n",
       "      <td>28415</td>\n",
       "      <td>97</td>\n",
       "      <td>0</td>\n",
       "      <td>42680.0</td>\n",
       "      <td>...</td>\n",
       "      <td>0.0</td>\n",
       "      <td>0.0</td>\n",
       "      <td>0.0</td>\n",
       "      <td>0.0</td>\n",
       "      <td>0.0</td>\n",
       "      <td>0.0</td>\n",
       "      <td>0.0</td>\n",
       "      <td>0.0</td>\n",
       "      <td>1</td>\n",
       "      <td>DrDoS_DNS</td>\n",
       "    </tr>\n",
       "    <tr>\n",
       "      <th>1</th>\n",
       "      <td>172.16.0.5-192.168.50.1-60495-634-17</td>\n",
       "      <td>192.168.50.1</td>\n",
       "      <td>634</td>\n",
       "      <td>172.16.0.5</td>\n",
       "      <td>60495</td>\n",
       "      <td>17</td>\n",
       "      <td>2</td>\n",
       "      <td>2</td>\n",
       "      <td>0</td>\n",
       "      <td>880.0</td>\n",
       "      <td>...</td>\n",
       "      <td>0.0</td>\n",
       "      <td>0.0</td>\n",
       "      <td>0.0</td>\n",
       "      <td>0.0</td>\n",
       "      <td>0.0</td>\n",
       "      <td>0.0</td>\n",
       "      <td>0.0</td>\n",
       "      <td>0.0</td>\n",
       "      <td>0</td>\n",
       "      <td>DrDoS_DNS</td>\n",
       "    </tr>\n",
       "    <tr>\n",
       "      <th>2</th>\n",
       "      <td>172.16.0.5-192.168.50.1-634-46391-17</td>\n",
       "      <td>172.16.0.5</td>\n",
       "      <td>634</td>\n",
       "      <td>192.168.50.1</td>\n",
       "      <td>46391</td>\n",
       "      <td>17</td>\n",
       "      <td>48549</td>\n",
       "      <td>200</td>\n",
       "      <td>0</td>\n",
       "      <td>88000.0</td>\n",
       "      <td>...</td>\n",
       "      <td>0.0</td>\n",
       "      <td>0.0</td>\n",
       "      <td>0.0</td>\n",
       "      <td>0.0</td>\n",
       "      <td>0.0</td>\n",
       "      <td>0.0</td>\n",
       "      <td>0.0</td>\n",
       "      <td>0.0</td>\n",
       "      <td>1</td>\n",
       "      <td>DrDoS_DNS</td>\n",
       "    </tr>\n",
       "    <tr>\n",
       "      <th>3</th>\n",
       "      <td>172.16.0.5-192.168.50.1-634-11894-17</td>\n",
       "      <td>172.16.0.5</td>\n",
       "      <td>634</td>\n",
       "      <td>192.168.50.1</td>\n",
       "      <td>11894</td>\n",
       "      <td>17</td>\n",
       "      <td>48337</td>\n",
       "      <td>200</td>\n",
       "      <td>0</td>\n",
       "      <td>88000.0</td>\n",
       "      <td>...</td>\n",
       "      <td>0.0</td>\n",
       "      <td>0.0</td>\n",
       "      <td>0.0</td>\n",
       "      <td>0.0</td>\n",
       "      <td>0.0</td>\n",
       "      <td>0.0</td>\n",
       "      <td>0.0</td>\n",
       "      <td>0.0</td>\n",
       "      <td>1</td>\n",
       "      <td>DrDoS_DNS</td>\n",
       "    </tr>\n",
       "    <tr>\n",
       "      <th>4</th>\n",
       "      <td>172.16.0.5-192.168.50.1-634-27878-17</td>\n",
       "      <td>172.16.0.5</td>\n",
       "      <td>634</td>\n",
       "      <td>192.168.50.1</td>\n",
       "      <td>27878</td>\n",
       "      <td>17</td>\n",
       "      <td>32026</td>\n",
       "      <td>200</td>\n",
       "      <td>0</td>\n",
       "      <td>88000.0</td>\n",
       "      <td>...</td>\n",
       "      <td>0.0</td>\n",
       "      <td>0.0</td>\n",
       "      <td>0.0</td>\n",
       "      <td>0.0</td>\n",
       "      <td>0.0</td>\n",
       "      <td>0.0</td>\n",
       "      <td>0.0</td>\n",
       "      <td>0.0</td>\n",
       "      <td>1</td>\n",
       "      <td>DrDoS_DNS</td>\n",
       "    </tr>\n",
       "  </tbody>\n",
       "</table>\n",
       "<p>5 rows × 85 columns</p>\n",
       "</div>"
      ],
      "text/plain": [
       "                                Flow ID     Source IP  Source Port  \\\n",
       "0  172.16.0.5-192.168.50.1-634-60495-17    172.16.0.5          634   \n",
       "1  172.16.0.5-192.168.50.1-60495-634-17  192.168.50.1          634   \n",
       "2  172.16.0.5-192.168.50.1-634-46391-17    172.16.0.5          634   \n",
       "3  172.16.0.5-192.168.50.1-634-11894-17    172.16.0.5          634   \n",
       "4  172.16.0.5-192.168.50.1-634-27878-17    172.16.0.5          634   \n",
       "\n",
       "  Destination IP  Destination Port  Protocol  Flow Duration  \\\n",
       "0   192.168.50.1             60495        17          28415   \n",
       "1     172.16.0.5             60495        17              2   \n",
       "2   192.168.50.1             46391        17          48549   \n",
       "3   192.168.50.1             11894        17          48337   \n",
       "4   192.168.50.1             27878        17          32026   \n",
       "\n",
       "   Total Fwd Packets  Total Backward Packets  Total Length of Fwd Packets  \\\n",
       "0                 97                       0                      42680.0   \n",
       "1                  2                       0                        880.0   \n",
       "2                200                       0                      88000.0   \n",
       "3                200                       0                      88000.0   \n",
       "4                200                       0                      88000.0   \n",
       "\n",
       "   ...  Active Mean  Active Std  Active Max  Active Min  Idle Mean  Idle Std  \\\n",
       "0  ...          0.0         0.0         0.0         0.0        0.0       0.0   \n",
       "1  ...          0.0         0.0         0.0         0.0        0.0       0.0   \n",
       "2  ...          0.0         0.0         0.0         0.0        0.0       0.0   \n",
       "3  ...          0.0         0.0         0.0         0.0        0.0       0.0   \n",
       "4  ...          0.0         0.0         0.0         0.0        0.0       0.0   \n",
       "\n",
       "   Idle Max  Idle Min  Inbound      Label  \n",
       "0       0.0       0.0        1  DrDoS_DNS  \n",
       "1       0.0       0.0        0  DrDoS_DNS  \n",
       "2       0.0       0.0        1  DrDoS_DNS  \n",
       "3       0.0       0.0        1  DrDoS_DNS  \n",
       "4       0.0       0.0        1  DrDoS_DNS  \n",
       "\n",
       "[5 rows x 85 columns]"
      ]
     },
     "execution_count": 5,
     "metadata": {},
     "output_type": "execute_result"
    }
   ],
   "source": [
    "df.head()"
   ]
  },
  {
   "cell_type": "code",
   "execution_count": 6,
   "metadata": {},
   "outputs": [],
   "source": [
    "df.replace([np.inf, -np.inf], np.nan, inplace=True)\n",
    "df = df.dropna()"
   ]
  },
  {
   "cell_type": "code",
   "execution_count": 7,
   "metadata": {},
   "outputs": [],
   "source": [
    "from sklearn.preprocessing import LabelEncoder\n",
    "\n",
    "label_encoder = LabelEncoder();\n",
    "df['Label'] = label_encoder.fit_transform(df['Label'])"
   ]
  },
  {
   "cell_type": "code",
   "execution_count": 8,
   "metadata": {},
   "outputs": [],
   "source": [
    "from sklearn.model_selection import KFold\n",
    "import category_encoders as ce\n",
    "\n",
    "kf = KFold(n_splits=5, shuffle=True, random_state=42)\n",
    "encoder = ce.TargetEncoder(cols=['Flow ID','Source IP','Destination IP'])\n",
    "batch_size = 100000"
   ]
  },
  {
   "cell_type": "code",
   "execution_count": 9,
   "metadata": {},
   "outputs": [],
   "source": [
    "def process_in_batches(train_df, test_df):\n",
    "    # Iterate over the test data in chunks to reduce memory usage\n",
    "    for start in range(0, len(test_df), batch_size):\n",
    "        # Define end index for the current batch\n",
    "        end = min(start + batch_size, len(test_df))\n",
    "        \n",
    "        # Extract the current batch\n",
    "        batch_test_df = test_df.iloc[start:end]\n",
    "        \n",
    "        # Transform the batch and update the columns in place\n",
    "        df.loc[batch_test_df.index, ['Flow ID', 'Source IP', 'Destination IP']] = encoder.transform(batch_test_df[['Flow ID', 'Source IP', 'Destination IP']]).values\n"
   ]
  },
  {
   "cell_type": "code",
   "execution_count": 10,
   "metadata": {},
   "outputs": [],
   "source": [
    "# K-Fold processing\n",
    "for train_index, test_index in kf.split(df):\n",
    "    train_df = df.iloc[train_index]\n",
    "    test_df = df.iloc[test_index]\n",
    "    \n",
    "    # Fit the encoder on the training data\n",
    "    encoder.fit(train_df[['Flow ID', 'Source IP', 'Destination IP']], train_df['Label'])\n",
    "    \n",
    "    # Process the test data in batches and update the columns in place\n",
    "    process_in_batches(train_df, test_df)"
   ]
  },
  {
   "cell_type": "code",
   "execution_count": 11,
   "metadata": {},
   "outputs": [],
   "source": [
    "# for x in list(df.columns):\n",
    "#     Q1 = df[x].quantile(0.25)\n",
    "#     Q3 = df[x].quantile(0.75)\n",
    "#     IQR = Q3 - Q1\n",
    "\n",
    "#     # Filter out rows where values are not outliers\n",
    "#     df= df[~((df[x] < (Q1 - 1.5 * IQR)) | (df[x] > (Q3 + 1.5 * IQR)))]"
   ]
  },
  {
   "cell_type": "code",
   "execution_count": 12,
   "metadata": {},
   "outputs": [],
   "source": [
    "df.to_csv(\"Processed Datasets/DrDoS_DNS.csv\" , index=False)"
   ]
  },
  {
   "cell_type": "code",
   "execution_count": 13,
   "metadata": {},
   "outputs": [
    {
     "name": "stdout",
     "output_type": "stream",
     "text": [
      "Label\n",
      "1    4908665\n",
      "0       3354\n",
      "Name: count, dtype: int64\n"
     ]
    }
   ],
   "source": [
    "class_counts = df['Label'].value_counts()\n",
    "print(class_counts)"
   ]
  },
  {
   "cell_type": "code",
   "execution_count": 14,
   "metadata": {},
   "outputs": [
    {
     "data": {
      "text/plain": [
       "(4912019, 85)"
      ]
     },
     "execution_count": 14,
     "metadata": {},
     "output_type": "execute_result"
    }
   ],
   "source": [
    "df.shape"
   ]
  },
  {
   "cell_type": "code",
   "execution_count": null,
   "metadata": {},
   "outputs": [],
   "source": []
  }
 ],
 "metadata": {
  "kernelspec": {
   "display_name": "Python 3",
   "language": "python",
   "name": "python3"
  },
  "language_info": {
   "codemirror_mode": {
    "name": "ipython",
    "version": 3
   },
   "file_extension": ".py",
   "mimetype": "text/x-python",
   "name": "python",
   "nbconvert_exporter": "python",
   "pygments_lexer": "ipython3",
   "version": "3.11.4"
  }
 },
 "nbformat": 4,
 "nbformat_minor": 2
}
